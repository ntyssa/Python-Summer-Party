{
 "cells": [
  {
   "cell_type": "markdown",
   "id": "dc5ae31a",
   "metadata": {},
   "source": [
    "<h4><b>Python Party Day 2: Sponsored Posts Click Performance</b></h4>"
   ]
  },
  {
   "cell_type": "markdown",
   "id": "bd76ae7f",
   "metadata": {},
   "source": [
    "<b>Tables</b><br>\n",
    "fct_ad_performance(ad_id, product_id, clicks, impressions, recorded_date)<br>\n",
    "dim_product(product_id, product_category, product_name)"
   ]
  },
  {
   "cell_type": "markdown",
   "id": "944538e5",
   "metadata": {},
   "source": [
    "Question 1 of 3\n",
    "\n",
    "What is the average click-through rate (CTR) for sponsored product ads for each product category that contains the substring 'Electronics' in its name during October 2024? This analysis will help determine which electronics-related categories are performing optimally."
   ]
  },
  {
   "cell_type": "code",
   "execution_count": null,
   "id": "18b14ad8",
   "metadata": {},
   "outputs": [],
   "source": [
    "df = fct_ad_performance.merge(dim_product, on=\"product_id\", how=\"inner\")\n",
    "\n",
    "df['recorded_date'] = pd.to_datetime(df['recorded_date'])\n",
    "\n",
    "october_df = df[(df['recorded_date'] >= \"2024-10-01\") & \n",
    "                (df['recorded_date'] < \"2024-11-01\")]\n",
    "\n",
    "electronics_df = october_df[october_df['product_category'].str.contains(\"Electronics\", case=False, na=False)]\n",
    "\n",
    "result = (\n",
    "    electronics_df\n",
    "    .groupby(\"product_category\")\n",
    "    .apply(lambda x: x['clicks'].sum() / x['impressions'].sum() if x['impressions'].sum() > 0 else 0)\n",
    "    .reset_index(name=\"average_ctr\")\n",
    ")\n",
    "\n",
    "print(\"Average click-through rate (CTR):\", result)"
   ]
  },
  {
   "cell_type": "markdown",
   "id": "8de347f5",
   "metadata": {},
   "source": [
    "Question 2 of 3<br><br>\n",
    "Which product categories have a CTR greater than the aggregated overall average CTR for sponsored product ads during October 2024?"
   ]
  },
  {
   "cell_type": "code",
   "execution_count": null,
   "id": "b7f295fa",
   "metadata": {},
   "outputs": [],
   "source": [
    "df = fct_ad_performance.merge(dim_product, on=\"product_id\", how=\"inner\")\n",
    "\n",
    "df['recorded_date'] = pd.to_datetime(df['recorded_date'])\n",
    "\n",
    "october_df = df[(df['recorded_date'] >= \"2024-10-01\") &\n",
    "                (df['recorded_date'] < \"2024-11-01\")]\n",
    "\n",
    "october_df['ctr'] = october_df.apply(\n",
    "    lambda row: row['clicks'] / row['impressions'] if row['impressions'] > 0 else 0,\n",
    "    axis=1\n",
    ")\n",
    "\n",
    "category_ctr = october_df.groupby(\"product_category\")['ctr'].mean().reset_index()\n",
    "\n",
    "overall_ctr = october_df['ctr'].mean()\n",
    "\n",
    "high_performing = category_ctr[category_ctr['ctr'] > overall_ctr]\n",
    "\n",
    "print(\"Overall Average CTR (all ads in Oct 2024):\", overall_ctr)\n",
    "print(\"\\nCategories with CTR above overall average:\")\n",
    "print(high_performing)"
   ]
  },
  {
   "cell_type": "markdown",
   "id": "c52eedda",
   "metadata": {},
   "source": [
    "Question 3 of 3<br><br>\n",
    "For the product categories identified in the previous question, what is the percentage difference between their CTR and the overall average CTR for October 2024? This analysis will quantify the performance gap to recommend specific categories for targeted advertising optimization."
   ]
  },
  {
   "cell_type": "code",
   "execution_count": null,
   "id": "5e75dfec",
   "metadata": {},
   "outputs": [],
   "source": [
    "df = fct_ad_performance.merge(dim_product, on=\"product_id\", how=\"inner\")\n",
    "\n",
    "df['recorded_date'] = pd.to_datetime(df['recorded_date'])\n",
    "\n",
    "october_df = df[(df['recorded_date'] >= \"2024-10-01\") &\n",
    "                (df['recorded_date'] < \"2024-11-01\")]\n",
    "\n",
    "october_df['ctr'] = october_df.apply(\n",
    "    lambda row: row['clicks'] / row['impressions'] if row['impressions'] > 0 else 0,\n",
    "    axis=1\n",
    ")\n",
    "\n",
    "category_ctr = october_df.groupby(\"product_category\")['ctr'].mean().reset_index()\n",
    "\n",
    "overall_ctr = october_df['ctr'].mean()\n",
    "\n",
    "high_performing = category_ctr[category_ctr['ctr'] > overall_ctr].copy()\n",
    "\n",
    "high_performing['pct_diff_vs_overall'] = (\n",
    "    (high_performing['ctr'] - overall_ctr) / overall_ctr * 100\n",
    ")\n",
    "\n",
    "print(\"Overall Average CTR (all ads in Oct 2024):\", overall_ctr)\n",
    "print(\"\\nHigh-performing categories with % difference vs overall CTR:\")\n",
    "print(high_performing)"
   ]
  }
 ],
 "metadata": {
  "kernelspec": {
   "display_name": "Python 3",
   "language": "python",
   "name": "python3"
  },
  "language_info": {
   "name": "python",
   "version": "3.10.0"
  }
 },
 "nbformat": 4,
 "nbformat_minor": 5
}
