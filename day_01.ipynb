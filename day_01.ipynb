{
 "cells": [
  {
   "cell_type": "markdown",
   "id": "c6532eea",
   "metadata": {},
   "source": [
    "<h4><b>Python Party Day 1: WhatsApp Group Size Engagement Analysis</b></h4>"
   ]
  },
  {
   "cell_type": "markdown",
   "id": "ba8f7efc",
   "metadata": {},
   "source": [
    "<b>Tables</b><br>\n",
    "dim_groups(group_id, created_date, participant_count, total_messages)"
   ]
  },
  {
   "cell_type": "markdown",
   "id": "5b03af58",
   "metadata": {},
   "source": [
    "Question 1 of 3\n",
    "\n",
    "What is the maximum number of participants among WhatsApp groups that were created in October 2024? This metric will help us understand the largest group size available."
   ]
  },
  {
   "cell_type": "code",
   "execution_count": null,
   "id": "6580e7a0",
   "metadata": {},
   "outputs": [],
   "source": [
    "df['created_date'] = pd.to_datetime(df['created_date'])\n",
    "\n",
    "october_df = df[(df['created_date'] >= \"2024-10-01\") & \n",
    "                (df['created_date'] < \"2024-11-01\")]\n",
    "\n",
    "max_participants = october_df['participant_count'].max()\n",
    "\n",
    "print(\"Maximum participants among WhatsApp groups that were created in October 2024:\", max_participants)"
   ]
  },
  {
   "cell_type": "markdown",
   "id": "e6f446db",
   "metadata": {},
   "source": [
    "Question 2\n",
    "\n",
    "What is the average number of participants in WhatsApp groups that were created in October 2024? This number will indicate the typical group size and inform our group messaging feature considerations."
   ]
  },
  {
   "cell_type": "code",
   "execution_count": null,
   "id": "a210cb75",
   "metadata": {},
   "outputs": [],
   "source": [
    "df['created_date'] = pd.to_datetime(df['created_date'])\n",
    "\n",
    "october_df = df[(df['created_date'] >= \"2024-10-01\") & \n",
    "                (df['created_date'] < \"2024-11-01\")]\n",
    "\n",
    "participants = october_df['participant_count']\n",
    "\n",
    "get_sum = sum(participants)\n",
    "get_len = len(participants)\n",
    "get_ave = get_sum / get_len\n",
    "\n",
    "print(\"Average number of participants in WhatsApp groups created in October 2024:\", get_ave)"
   ]
  },
  {
   "cell_type": "markdown",
   "id": "7f2c1dda",
   "metadata": {},
   "source": [
    "Question 3\n",
    "\n",
    "For WhatsApp groups with more than 50 participants that were created in October 2024, what is the average number of messages sent? This insight will help assess engagement in larger groups and support recommendations for group messaging features."
   ]
  },
  {
   "cell_type": "code",
   "execution_count": null,
   "id": "90a5766e",
   "metadata": {},
   "outputs": [],
   "source": [
    "october_df = df[\n",
    "    (df['participant_count'] > 50) &\n",
    "    (df['created_date'].between('2024-10-01', '2024-10-31'))\n",
    "]\n",
    "\n",
    "avg_messages = october_df['total_messages'].mean()\n",
    "avg_num = int(avg_messages)\n",
    "print(\"Average number of messages sent:\", avg_num)"
   ]
  }
 ],
 "metadata": {
  "language_info": {
   "name": "python"
  }
 },
 "nbformat": 4,
 "nbformat_minor": 5
}
